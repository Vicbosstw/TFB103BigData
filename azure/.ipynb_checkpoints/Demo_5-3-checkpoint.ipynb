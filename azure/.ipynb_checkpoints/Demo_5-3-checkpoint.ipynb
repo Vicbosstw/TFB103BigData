{
 "cells": [
  {
   "cell_type": "markdown",
   "metadata": {},
   "source": [
    "# Azure Congnative Service - Computer vision - content tagging"
   ]
  },
  {
   "cell_type": "markdown",
   "metadata": {},
   "source": [
    "# 使用網路URL執行內容標記服務操作"
   ]
  },
  {
   "cell_type": "code",
   "execution_count": 5,
   "metadata": {
    "ExecuteTime": {
     "end_time": "2021-08-24T11:55:49.859524Z",
     "start_time": "2021-08-24T11:55:48.626256Z"
    }
   },
   "outputs": [
    {
     "name": "stdout",
     "output_type": "stream",
     "text": [
      "===== Tag an image - remote =====\n",
      "Tags in the remote image: \n",
      "'electronics' with confidence 96.23%\n",
      "'text' with confidence 94.88%\n",
      "'electronic device' with confidence 87.12%\n",
      "'indoor' with confidence 72.64%\n"
     ]
    }
   ],
   "source": [
    "from azure.cognitiveservices.vision.computervision import ComputerVisionClient\n",
    "from msrest.authentication import CognitiveServicesCredentials\n",
    "\n",
    "# Set API key.\n",
    "subscription_key = '6ac220c316d24ff59df08be8d2096cf6'\n",
    "\n",
    "# Set endpoint.\n",
    "endpoint = 'https://vicbosstw.cognitiveservices.azure.com/'\n",
    "\n",
    "# Call API\n",
    "computervision_client = ComputerVisionClient(endpoint, CognitiveServicesCredentials(subscription_key))\n",
    "\n",
    "    \n",
    "# remote_image_url = \"https://raw.githubusercontent.com/Azure-Samples/cognitive-services-sample-data-files/master/ComputerVision/Images/landmark.jpg\"\n",
    "\n",
    "remote_image_url = 'https://i.imgur.com/D48NRzn.jpg'\n",
    "'''\n",
    "Tag an Image - remote\n",
    "This example returns a tag (key word) for each thing in the image.\n",
    "'''\n",
    "print(\"===== Tag an image - remote =====\")\n",
    "# Call API with remote image\n",
    "tags_result_remote = computervision_client.tag_image(remote_image_url )\n",
    "\n",
    "# Print results with confidence score\n",
    "print(\"Tags in the remote image: \")\n",
    "if (len(tags_result_remote.tags) == 0):\n",
    "    print(\"No tags detected.\")\n",
    "else:\n",
    "    for tag in tags_result_remote.tags:\n",
    "        print(\"'{}' with confidence {:.2f}%\".format(tag.name, tag.confidence * 100))"
   ]
  },
  {
   "cell_type": "markdown",
   "metadata": {},
   "source": [
    "# 上傳本機圖檔執行內容標記服務操作"
   ]
  },
  {
   "cell_type": "code",
   "execution_count": 6,
   "metadata": {
    "ExecuteTime": {
     "end_time": "2021-08-24T12:00:11.368821Z",
     "start_time": "2021-08-24T12:00:10.145469Z"
    }
   },
   "outputs": [
    {
     "name": "stdout",
     "output_type": "stream",
     "text": [
      "===== Tag an image - remote =====\n",
      "Tags in the local image: \n",
      "'person' with confidence 99.89%\n",
      "'human face' with confidence 99.74%\n",
      "'smile' with confidence 99.20%\n",
      "'outdoor' with confidence 98.60%\n",
      "'happy' with confidence 96.98%\n",
      "'clothing' with confidence 96.16%\n",
      "'friendship' with confidence 94.64%\n",
      "'tree' with confidence 91.73%\n",
      "'female person' with confidence 89.10%\n",
      "'girl' with confidence 88.87%\n",
      "'social group' with confidence 87.20%\n",
      "'posing' with confidence 86.55%\n",
      "'adolescent' with confidence 85.74%\n",
      "'love' with confidence 85.26%\n",
      "'laugh' with confidence 85.01%\n",
      "'people' with confidence 84.99%\n",
      "'lady' with confidence 84.45%\n",
      "'woman' with confidence 81.82%\n",
      "'group' with confidence 79.30%\n",
      "'wedding' with confidence 61.53%\n",
      "'dress' with confidence 51.72%\n"
     ]
    }
   ],
   "source": [
    "from azure.cognitiveservices.vision.computervision import ComputerVisionClient\n",
    "from msrest.authentication import CognitiveServicesCredentials\n",
    "import os\n",
    "\n",
    "# Set API key.\n",
    "subscription_key = '6ac220c316d24ff59df08be8d2096cf6'\n",
    "\n",
    "# Set endpoint.\n",
    "endpoint = 'https://vicbosstw.cognitiveservices.azure.com/'\n",
    "\n",
    "# Call API\n",
    "computervision_client = ComputerVisionClient(endpoint, CognitiveServicesCredentials(subscription_key))\n",
    " \n",
    "# 指定圖檔\n",
    "local_image_path = os.getcwd() + '/faces.jpg'\n",
    "\n",
    "# 讀取圖片\n",
    "local_image = open(local_image_path, \"rb\")\n",
    "\n",
    "'''\n",
    "Tag an Image - local\n",
    "This example returns a tag (key word) for each thing in the image.\n",
    "'''\n",
    "print(\"===== Tag an image - remote =====\")\n",
    "# Call API with local image\n",
    "tags_result_local = computervision_client.tag_image_in_stream(local_image)\n",
    "\n",
    "\n",
    "# Print results with confidence score\n",
    "print(\"Tags in the local image: \")\n",
    "if (len(tags_result_local.tags) == 0):\n",
    "    print(\"No tags detected.\")\n",
    "else:\n",
    "    for tag in tags_result_local.tags:\n",
    "        print(\"'{}' with confidence {:.2f}%\".format(tag.name, tag.confidence * 100))"
   ]
  },
  {
   "cell_type": "code",
   "execution_count": null,
   "metadata": {},
   "outputs": [],
   "source": []
  }
 ],
 "metadata": {
  "kernelspec": {
   "display_name": "Python 3",
   "language": "python",
   "name": "python3"
  },
  "language_info": {
   "codemirror_mode": {
    "name": "ipython",
    "version": 3
   },
   "file_extension": ".py",
   "mimetype": "text/x-python",
   "name": "python",
   "nbconvert_exporter": "python",
   "pygments_lexer": "ipython3",
   "version": "3.8.11"
  },
  "toc": {
   "base_numbering": 1,
   "nav_menu": {},
   "number_sections": true,
   "sideBar": true,
   "skip_h1_title": false,
   "title_cell": "Table of Contents",
   "title_sidebar": "Contents",
   "toc_cell": false,
   "toc_position": {},
   "toc_section_display": true,
   "toc_window_display": false
  }
 },
 "nbformat": 4,
 "nbformat_minor": 4
}
