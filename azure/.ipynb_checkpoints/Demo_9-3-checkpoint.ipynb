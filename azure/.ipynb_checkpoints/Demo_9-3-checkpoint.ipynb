{
 "cells": [
  {
   "cell_type": "markdown",
   "metadata": {},
   "source": [
    "# 印刷文字辨識服務操作"
   ]
  },
  {
   "cell_type": "code",
   "execution_count": 1,
   "metadata": {
    "ExecuteTime": {
     "end_time": "2021-08-26T10:57:20.132211Z",
     "start_time": "2021-08-26T10:57:17.283995Z"
    }
   },
   "outputs": [
    {
     "name": "stdout",
     "output_type": "stream",
     "text": [
      "===== Batch Read File - remote =====\n",
      "Nutrition Facts Amount Per Serving\n",
      "[145.0, 0.0, 1239.0, 212.0, 1225.0, 280.0, 131.0, 58.0]\n",
      "Serving size: 1 bar (40g)\n",
      "[110.0, 59.0, 598.0, 157.0, 587.0, 207.0, 100.0, 109.0]\n",
      "Serving Per Package: 4\n",
      "[83.0, 108.0, 549.0, 206.0, 538.0, 256.0, 73.0, 158.0]\n",
      "Total Fat 13g\n",
      "[683.0, 214.0, 1001.0, 287.0, 990.0, 333.0, 673.0, 260.0]\n",
      "Saturated Fat 1.5g\n",
      "[695.0, 296.0, 1121.0, 395.0, 1108.0, 448.0, 683.0, 348.0]\n",
      "Amount Per Serving\n",
      "[29.0, 208.0, 491.0, 310.0, 478.0, 368.0, 17.0, 266.0]\n",
      "Trans Fat 0g\n",
      "[668.0, 364.0, 954.0, 435.0, 941.0, 488.0, 655.0, 417.0]\n",
      "alories 190\n",
      "[9.0, 293.0, 265.0, 350.0, 255.0, 397.0, 0.0, 340.0]\n",
      "Cholesterol Omg\n",
      "[593.0, 425.0, 1007.0, 527.0, 994.0, 581.0, 580.0, 480.0]\n",
      "ories from Fat 110\n",
      "[9.0, 377.0, 399.0, 465.0, 389.0, 509.0, 0.0, 422.0]\n",
      "Sodium 20mg\n",
      "[562.0, 497.0, 914.0, 588.0, 899.0, 644.0, 548.0, 553.0]\n",
      "nt Daily Values are based on\n",
      "[8.0, 477.0, 521.0, 599.0, 511.0, 641.0, 0.0, 518.0]\n",
      "Vitamin A 50%\n",
      "[525.0, 598.0, 776.0, 657.0, 766.0, 700.0, 515.0, 640.0]\n",
      "calorie diet.\n",
      "[13.0, 535.0, 196.0, 576.0, 187.0, 616.0, 4.0, 574.0]\n",
      "\n"
     ]
    }
   ],
   "source": [
    "from azure.cognitiveservices.vision.computervision import ComputerVisionClient\n",
    "from azure.cognitiveservices.vision.computervision.models import TextOperationStatusCodes\n",
    "from msrest.authentication import CognitiveServicesCredentials\n",
    "import time\n",
    "\n",
    "# Set API key.\n",
    "subscription_key = '6ac220c316d24ff59df08be8d2096cf6'\n",
    "# Set endpoint.\n",
    "endpoint = 'https://vicbosstw.cognitiveservices.azure.com/'\n",
    "# Call API\n",
    "computervision_client = ComputerVisionClient(endpoint, CognitiveServicesCredentials(subscription_key))\n",
    "\n",
    "'''\n",
    "Batch Read File, recognize printed text - remote\n",
    "This example will extract printed text in an image, then print results, line by line.\n",
    "This API call can also recognize handwriting (not shown).\n",
    "'''\n",
    "print(\"===== Batch Read File - remote =====\")\n",
    "# Get an image with printed text\n",
    "remote_image_printed_text_url = \"https://raw.githubusercontent.com/Azure-Samples/cognitive-services-sample-data-files/master/ComputerVision/Images/printed_text.jpg\"\n",
    "\n",
    "# Call API with URL and raw response (allows you to get the operation location)\n",
    "recognize_printed_results = computervision_client.batch_read_file(remote_image_printed_text_url,  raw=True)\n",
    "\n",
    "# Get the operation location (URL with an ID at the end) from the response\n",
    "operation_location_remote = recognize_printed_results.headers[\"Operation-Location\"]\n",
    "# Grab the ID from the URL\n",
    "operation_id = operation_location_remote.split(\"/\")[-1]\n",
    "\n",
    "# Call the \"GET\" API and wait for it to retrieve the results \n",
    "while True:\n",
    "    get_printed_text_results = computervision_client.get_read_operation_result(operation_id)\n",
    "    if get_printed_text_results.status not in ['NotStarted', 'Running']:\n",
    "        break\n",
    "    time.sleep(1)\n",
    "\n",
    "# Print the detected text, line by line\n",
    "if get_printed_text_results.status == TextOperationStatusCodes.succeeded:\n",
    "    for text_result in get_printed_text_results.recognition_results:\n",
    "        for line in text_result.lines:\n",
    "            print(line.text)\n",
    "            print(line.bounding_box)\n",
    "print()"
   ]
  },
  {
   "cell_type": "markdown",
   "metadata": {},
   "source": [
    "# 手寫文字辨識服務操作"
   ]
  },
  {
   "cell_type": "code",
   "execution_count": 4,
   "metadata": {},
   "outputs": [
    {
     "name": "stdout",
     "output_type": "stream",
     "text": [
      "===== Batch Read File - remote =====\n",
      "Table Of\n",
      "[2.8469, 1.6727, 5.6385, 1.6173, 5.6495, 2.1823, 2.858, 2.2377]\n",
      "Contents\n",
      "[2.9355, 2.1934, 5.9486, 2.149, 5.9597, 2.7583, 2.9466, 2.7915]\n",
      "A list of the parts of a book and the\n",
      "[2.282, 2.9577, 6.1923, 2.9466, 6.1923, 3.2236, 2.2931, 3.2457]\n",
      "pages where they are located\n",
      "[2.6475, 3.3011, 5.8489, 3.2568, 5.8489, 3.5227, 2.6586, 3.567]\n",
      "Table of Contents\n",
      "[3.4673, 3.8439, 5.2951, 3.8439, 5.2951, 4.1098, 3.4783, 4.1208]\n",
      "Frog Life Cycle......page 2\n",
      "[3.1682, 4.2316, 5.4723, 4.2205, 5.4834, 4.4532, 3.1793, 4.4642]\n",
      "kinds of Frogs........page 5\n",
      "[3.1682, 4.5529, 5.4391, 4.5529, 5.428, 4.7855, 3.1571, 4.7744]\n",
      "Where Frogs Live...page 8\n",
      "[3.1682, 4.8963, 5.4391, 4.8741, 5.4502, 5.1067, 3.1793, 5.1178]\n",
      "How\n",
      "[2.2266, 1.8499, 3.2014, 1.6838, 3.279, 2.1158, 2.3152, 2.2931]\n",
      "Hand\n",
      "[1.9275, 2.4592, 3.4562, 2.1047, 3.5559, 2.8359, 2.0937, 3.1571]\n",
      "Letter\n",
      "[2.0604, 3.0906, 3.5116, 2.9023, 3.5891, 3.711, 2.1823, 3.9215]\n",
      "Bill Gates\n",
      "[1.5287, 5.0624, 4.9406, 4.9406, 4.9849, 5.8822, 1.573, 6.004]\n",
      "\n"
     ]
    }
   ],
   "source": [
    "from azure.cognitiveservices.vision.computervision import ComputerVisionClient\n",
    "from azure.cognitiveservices.vision.computervision.models import TextOperationStatusCodes\n",
    "from msrest.authentication import CognitiveServicesCredentials\n",
    "import time\n",
    "\n",
    "# Set API key.\n",
    "subscription_key = '6ac220c316d24ff59df08be8d2096cf6'\n",
    "# Set endpoint.\n",
    "endpoint = 'https://vicbosstw.cognitiveservices.azure.com/'\n",
    "# Call API\n",
    "computervision_client = ComputerVisionClient(endpoint, CognitiveServicesCredentials(subscription_key))\n",
    "\n",
    "'''\n",
    "Batch Read File, recognize printed text - remote\n",
    "This example will extract printed text in an image, then print results, line by line.\n",
    "This API call can also recognize handwriting (not shown).\n",
    "'''\n",
    "print(\"===== Batch Read File - remote =====\")\n",
    "# Get an image with printed handwritten\n",
    "remote_image_printed_text_url = \"https://raw.githubusercontent.com/Azure-Samples/cognitive-services-sample-data-files/master/ComputerVision/Images/printed_handwritten.pdf\"\n",
    "\n",
    "# Call API with URL and raw response (allows you to get the operation location)\n",
    "recognize_printed_results = computervision_client.batch_read_file(remote_image_printed_text_url,  raw=True)\n",
    "\n",
    "# Get the operation location (URL with an ID at the end) from the response\n",
    "operation_location_remote = recognize_printed_results.headers[\"Operation-Location\"]\n",
    "# Grab the ID from the URL\n",
    "operation_id = operation_location_remote.split(\"/\")[-1]\n",
    "\n",
    "# Call the \"GET\" API and wait for it to retrieve the results \n",
    "while True:\n",
    "    get_printed_text_results = computervision_client.get_read_operation_result(operation_id)\n",
    "    if get_printed_text_results.status not in ['NotStarted', 'Running']:\n",
    "        break\n",
    "    time.sleep(1)\n",
    "\n",
    "# Print the detected text, line by line\n",
    "if get_printed_text_results.status == TextOperationStatusCodes.succeeded:\n",
    "    for text_result in get_printed_text_results.recognition_results:\n",
    "        for line in text_result.lines:\n",
    "            print(line.text)\n",
    "            print(line.bounding_box)\n",
    "print()"
   ]
  },
  {
   "cell_type": "markdown",
   "metadata": {},
   "source": [
    "# 成人內容偵測服務操作"
   ]
  },
  {
   "cell_type": "code",
   "execution_count": 2,
   "metadata": {},
   "outputs": [
    {
     "name": "stdout",
     "output_type": "stream",
     "text": [
      "===== Detect Adult or Racy Content - remote =====\n",
      "Analyzing remote image for adult or racy content ... \n",
      "Is adult content: False with confidence 0.34\n",
      "Has racy content: False with confidence 0.49\n"
     ]
    }
   ],
   "source": [
    "from azure.cognitiveservices.vision.computervision import ComputerVisionClient\n",
    "from msrest.authentication import CognitiveServicesCredentials\n",
    "\n",
    "# Set API key.\n",
    "subscription_key = 'e5847658ef394d0b960f00795989a546'\n",
    "# Set endpoint.\n",
    "endpoint = 'https://modulecomputervision.cognitiveservices.azure.com/'\n",
    "# Call API\n",
    "computervision_client = ComputerVisionClient(endpoint, CognitiveServicesCredentials(subscription_key))\n",
    "\n",
    "remote_image_url = \"https://raw.githubusercontent.com/Azure-Samples/cognitive-services-sample-data-files/master/ComputerVision/Images/landmark.jpg\"\n",
    "\n",
    "'''\n",
    "Detect Adult or Racy Content - remote\n",
    "This example detects adult or racy content in a remote image, then prints the adult/racy score.\n",
    "The score is ranged 0.0 - 1.0 with smaller numbers indicating negative results.\n",
    "'''\n",
    "print(\"===== Detect Adult or Racy Content - remote =====\")\n",
    "# Select the visual feature(s) you want\n",
    "remote_image_features = [\"adult\"]\n",
    "# Call API with URL and features\n",
    "detect_adult_results_remote = computervision_client.analyze_image(remote_image_url, remote_image_features)\n",
    "\n",
    "# Print results with adult/racy score\n",
    "print(\"Analyzing remote image for adult or racy content ... \")\n",
    "print(\"Is adult content: {} with confidence {:.2f}\".format(detect_adult_results_remote.adult.is_adult_content, detect_adult_results_remote.adult.adult_score * 100))\n",
    "print(\"Has racy content: {} with confidence {:.2f}\".format(detect_adult_results_remote.adult.is_racy_content, detect_adult_results_remote.adult.racy_score * 100))"
   ]
  }
 ],
 "metadata": {
  "kernelspec": {
   "display_name": "Python 3",
   "language": "python",
   "name": "python3"
  },
  "language_info": {
   "codemirror_mode": {
    "name": "ipython",
    "version": 3
   },
   "file_extension": ".py",
   "mimetype": "text/x-python",
   "name": "python",
   "nbconvert_exporter": "python",
   "pygments_lexer": "ipython3",
   "version": "3.8.11"
  },
  "toc": {
   "base_numbering": 1,
   "nav_menu": {},
   "number_sections": true,
   "sideBar": true,
   "skip_h1_title": false,
   "title_cell": "Table of Contents",
   "title_sidebar": "Contents",
   "toc_cell": false,
   "toc_position": {},
   "toc_section_display": true,
   "toc_window_display": false
  }
 },
 "nbformat": 4,
 "nbformat_minor": 4
}
