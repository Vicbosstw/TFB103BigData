{
 "cells": [
  {
   "cell_type": "markdown",
   "metadata": {},
   "source": [
    "# 執行LUIS意圖辨識服務操作"
   ]
  },
  {
   "cell_type": "markdown",
   "metadata": {},
   "source": [
    "## REST API"
   ]
  },
  {
   "cell_type": "code",
   "execution_count": 1,
   "metadata": {
    "ExecuteTime": {
     "end_time": "2021-08-28T03:37:11.972493Z",
     "start_time": "2021-08-28T03:37:11.025396Z"
    }
   },
   "outputs": [
    {
     "name": "stdout",
     "output_type": "stream",
     "text": [
      "{'query': 'turn on all lights', 'prediction': {'topIntent': 'HomeAutomation.TurnOn', 'intents': {'HomeAutomation.TurnOn': {'score': 0.5375382}, 'None': {'score': 0.08687421}, 'HomeAutomation.TurnOff': {'score': 0.0207554}}, 'entities': {'HomeAutomation.Operation': ['on'], '$instance': {'HomeAutomation.Operation': [{'type': 'HomeAutomation.Operation', 'text': 'on', 'startIndex': 5, 'length': 2, 'score': 0.72498417, 'modelTypeId': -1, 'modelType': 'Unknown', 'recognitionSources': ['model']}]}}}}\n"
     ]
    }
   ],
   "source": [
    "import requests\n",
    "\n",
    "try:\n",
    "\n",
    "    key = 'e4e473f6aef54879b85ff5ada380a13c' # your Runtime key\n",
    "    endpoint = 'westus.api.cognitive.microsoft.com' # such as 'your-resource-name.api.cognitive.microsoft.com'\n",
    "    appId = 'df67dcdb-c37d-46af-88e1-8b97951ca1c2'\n",
    "    utterance = 'turn on all lights'\n",
    "\n",
    "    headers = {\n",
    "    }\n",
    "\n",
    "    params ={\n",
    "        'query': utterance,\n",
    "        'timezoneOffset': '0',\n",
    "        'verbose': 'true',\n",
    "        'show-all-intents': 'true',\n",
    "        'spellCheck': 'false',\n",
    "        'staging': 'false',\n",
    "        'subscription-key': key\n",
    "    }\n",
    "\n",
    "    r = requests.get(f'https://{endpoint}/luis/prediction/v3.0/apps/{appId}/slots/production/predict',headers=headers, params=params)\n",
    "    print(r.json())\n",
    "\n",
    "except Exception as e:\n",
    "    print(f'{e}')"
   ]
  },
  {
   "cell_type": "markdown",
   "metadata": {},
   "source": [
    "## SDK"
   ]
  },
  {
   "cell_type": "code",
   "execution_count": 3,
   "metadata": {
    "ExecuteTime": {
     "end_time": "2021-08-28T03:41:01.527750Z",
     "start_time": "2021-08-28T03:41:01.509750Z"
    }
   },
   "outputs": [
    {
     "ename": "ModuleNotFoundError",
     "evalue": "No module named 'azure.cognitiveservices.language'",
     "output_type": "error",
     "traceback": [
      "\u001b[1;31m---------------------------------------------------------------------------\u001b[0m",
      "\u001b[1;31mModuleNotFoundError\u001b[0m                       Traceback (most recent call last)",
      "\u001b[1;32m<ipython-input-3-1ae5ed640191>\u001b[0m in \u001b[0;36m<module>\u001b[1;34m\u001b[0m\n\u001b[1;32m----> 1\u001b[1;33m \u001b[1;32mfrom\u001b[0m \u001b[0mazure\u001b[0m\u001b[1;33m.\u001b[0m\u001b[0mcognitiveservices\u001b[0m\u001b[1;33m.\u001b[0m\u001b[0mlanguage\u001b[0m\u001b[1;33m.\u001b[0m\u001b[0mluis\u001b[0m\u001b[1;33m.\u001b[0m\u001b[0mruntime\u001b[0m \u001b[1;32mimport\u001b[0m \u001b[0mLUISRuntimeClient\u001b[0m\u001b[1;33m\u001b[0m\u001b[1;33m\u001b[0m\u001b[0m\n\u001b[0m\u001b[0;32m      2\u001b[0m \u001b[1;32mfrom\u001b[0m \u001b[0mmsrest\u001b[0m\u001b[1;33m.\u001b[0m\u001b[0mauthentication\u001b[0m \u001b[1;32mimport\u001b[0m \u001b[0mCognitiveServicesCredentials\u001b[0m\u001b[1;33m\u001b[0m\u001b[1;33m\u001b[0m\u001b[0m\n\u001b[0;32m      3\u001b[0m \u001b[1;33m\u001b[0m\u001b[0m\n\u001b[0;32m      4\u001b[0m \u001b[1;32mimport\u001b[0m \u001b[0mdatetime\u001b[0m\u001b[1;33m,\u001b[0m \u001b[0mjson\u001b[0m\u001b[1;33m,\u001b[0m \u001b[0mos\u001b[0m\u001b[1;33m,\u001b[0m \u001b[0mtime\u001b[0m\u001b[1;33m\u001b[0m\u001b[1;33m\u001b[0m\u001b[0m\n\u001b[0;32m      5\u001b[0m \u001b[1;33m\u001b[0m\u001b[0m\n",
      "\u001b[1;31mModuleNotFoundError\u001b[0m: No module named 'azure.cognitiveservices.language'"
     ]
    }
   ],
   "source": [
    "from azure.cognitiveservices.language.luis.runtime import LUISRuntimeClient\n",
    "from msrest.authentication import CognitiveServicesCredentials\n",
    "\n",
    "import datetime, json, os, time\n",
    "\n",
    "# Use public app ID or replace with your own trained and published app's ID\n",
    "# to query your own app\n",
    "# public appID = 'df67dcdb-c37d-46af-88e1-8b97951ca1c2'\n",
    "luisAppID = '4a43d291-8088-4c3f-8043-cfcc178c97d7'\n",
    "runtime_key = 'e4e473f6aef54879b85ff5ada380a13c'\n",
    "runtime_endpoint = 'https://testluisvic.cognitiveservices.azure.com/'\n",
    "\n",
    "# production or staging\n",
    "luisSlotName = 'production'\n",
    "\n",
    "# Instantiate a LUIS runtime client\n",
    "clientRuntime = LUISRuntimeClient(runtime_endpoint, CognitiveServicesCredentials(runtime_key))\n",
    "\n",
    "def predict(app_id, slot_name):\n",
    "\n",
    "    request = { \"query\" : \"turn on ac\" }\n",
    "\n",
    "    # Note be sure to specify, using the slot_name parameter, whether your application is in staging or \\\n",
    "    # production.\n",
    "    response = clientRuntime.prediction.get_slot_prediction(app_id=app_id, slot_name=slot_name, \\\n",
    "                                                            prediction_request=request)\n",
    "\n",
    "    print(\"Top intent: {}\".format(response.prediction.top_intent))\n",
    "    print(\"Sentiment: {}\".format (response.prediction.sentiment))\n",
    "    print(\"Intents: \")\n",
    "\n",
    "    for intent in response.prediction.intents:\n",
    "        print(\"\\t{}\".format (json.dumps (intent)))\n",
    "    print(\"Entities: {}\".format (response.prediction.entities))\n",
    "    \n",
    "predict(luisAppID, luisSlotName)"
   ]
  }
 ],
 "metadata": {
  "kernelspec": {
   "display_name": "Python 3",
   "language": "python",
   "name": "python3"
  },
  "language_info": {
   "codemirror_mode": {
    "name": "ipython",
    "version": 3
   },
   "file_extension": ".py",
   "mimetype": "text/x-python",
   "name": "python",
   "nbconvert_exporter": "python",
   "pygments_lexer": "ipython3",
   "version": "3.8.11"
  },
  "toc": {
   "base_numbering": 1,
   "nav_menu": {},
   "number_sections": true,
   "sideBar": true,
   "skip_h1_title": false,
   "title_cell": "Table of Contents",
   "title_sidebar": "Contents",
   "toc_cell": false,
   "toc_position": {},
   "toc_section_display": true,
   "toc_window_display": false
  }
 },
 "nbformat": 4,
 "nbformat_minor": 4
}
