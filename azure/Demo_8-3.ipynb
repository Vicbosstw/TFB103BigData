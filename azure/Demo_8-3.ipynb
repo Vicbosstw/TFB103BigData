{
 "cells": [
  {
   "cell_type": "markdown",
   "metadata": {},
   "source": [
    "# 特定領域偵測服務操作"
   ]
  },
  {
   "cell_type": "markdown",
   "metadata": {},
   "source": [
    "## domain: celebrities"
   ]
  },
  {
   "cell_type": "code",
   "execution_count": 1,
   "metadata": {
    "ExecuteTime": {
     "end_time": "2021-08-24T13:14:08.536424Z",
     "start_time": "2021-08-24T13:14:06.202993Z"
    }
   },
   "outputs": [
    {
     "name": "stdout",
     "output_type": "stream",
     "text": [
      "===== Detect Domain-specific Content - remote =====\n",
      "Celebrities in the remote image:\n",
      "Bern Collaco\n"
     ]
    }
   ],
   "source": [
    "from azure.cognitiveservices.vision.computervision import ComputerVisionClient\n",
    "from msrest.authentication import CognitiveServicesCredentials\n",
    "\n",
    "# Set API key.\n",
    "subscription_key = '6ac220c316d24ff59df08be8d2096cf6'\n",
    "# Set endpoint.\n",
    "endpoint = 'https://vicbosstw.cognitiveservices.azure.com/'\n",
    "# Call API\n",
    "computervision_client = ComputerVisionClient(endpoint, CognitiveServicesCredentials(subscription_key))\n",
    "\n",
    "\n",
    "'''\n",
    "Detect Domain-specific Content - remote\n",
    "This example detects celebrites and landmarks in remote images.\n",
    "'''\n",
    "print(\"===== Detect Domain-specific Content - remote =====\")\n",
    "# URL of one or more celebrities\n",
    "remote_image_url_celebs = \"https://raw.githubusercontent.com/Azure-Samples/cognitive-services-sample-data-files/master/ComputerVision/Images/faces.jpg\"\n",
    "# Call API with content type (celebrities) and URL\n",
    "detect_domain_results_celebs_remote = computervision_client.analyze_image_by_domain(\"celebrities\", remote_image_url_celebs)\n",
    "\n",
    "# Print detection results with name\n",
    "print(\"Celebrities in the remote image:\")\n",
    "if len(detect_domain_results_celebs_remote.result[\"celebrities\"]) == 0:\n",
    "    print(\"No celebrities detected.\")\n",
    "else:\n",
    "    for celeb in detect_domain_results_celebs_remote.result[\"celebrities\"]:\n",
    "        print(celeb[\"name\"])"
   ]
  },
  {
   "cell_type": "code",
   "execution_count": 6,
   "metadata": {
    "ExecuteTime": {
     "end_time": "2021-08-24T13:17:30.381328Z",
     "start_time": "2021-08-24T13:17:29.377474Z"
    }
   },
   "outputs": [
    {
     "name": "stdout",
     "output_type": "stream",
     "text": [
      "===== Detect Domain-specific Content - remote =====\n",
      "Celebrities in the remote image:\n",
      "Ryan Reynolds\n"
     ]
    }
   ],
   "source": [
    "from azure.cognitiveservices.vision.computervision import ComputerVisionClient\n",
    "from msrest.authentication import CognitiveServicesCredentials\n",
    "\n",
    "# Set API key.\n",
    "subscription_key = '6ac220c316d24ff59df08be8d2096cf6'\n",
    "# Set endpoint.\n",
    "endpoint = 'https://vicbosstw.cognitiveservices.azure.com/'\n",
    "# Call API\n",
    "computervision_client = ComputerVisionClient(endpoint, CognitiveServicesCredentials(subscription_key))\n",
    "\n",
    "import os\n",
    "\n",
    "# 指定圖檔\n",
    "local_image_path = os.getcwd() + '/Man4.jpg'\n",
    "\n",
    "# 讀取圖片\n",
    "local_image = open(local_image_path, \"rb\")\n",
    "\n",
    "\n",
    "'''\n",
    "Detect Domain-specific Content - remote\n",
    "This example detects celebrites and landmarks in remote images.\n",
    "'''\n",
    "print(\"===== Detect Domain-specific Content - remote =====\")\n",
    "# URL of one or more celebrities\n",
    "remote_image_url_celebs = \"https://raw.githubusercontent.com/Azure-Samples/cognitive-services-sample-data-files/master/ComputerVision/Images/faces.jpg\"\n",
    "# Call API with content type (celebrities) and URL\n",
    "detect_domain_results_celebs_remote = computervision_client.analyze_image_by_domain_in_stream(\"celebrities\", local_image)\n",
    "\n",
    "# Print detection results with name\n",
    "print(\"Celebrities in the remote image:\")\n",
    "if len(detect_domain_results_celebs_remote.result[\"celebrities\"]) == 0:\n",
    "    print(\"No celebrities detected.\")\n",
    "else:\n",
    "    for celeb in detect_domain_results_celebs_remote.result[\"celebrities\"]:\n",
    "        print(celeb[\"name\"])"
   ]
  },
  {
   "cell_type": "markdown",
   "metadata": {},
   "source": [
    "## domain: landmarks"
   ]
  },
  {
   "cell_type": "code",
   "execution_count": 7,
   "metadata": {
    "ExecuteTime": {
     "end_time": "2021-08-24T13:18:03.248233Z",
     "start_time": "2021-08-24T13:18:02.256916Z"
    }
   },
   "outputs": [
    {
     "name": "stdout",
     "output_type": "stream",
     "text": [
      "\n",
      "Landmarks in the remote image:\n",
      "Colosseum\n"
     ]
    }
   ],
   "source": [
    "from azure.cognitiveservices.vision.computervision import ComputerVisionClient\n",
    "from msrest.authentication import CognitiveServicesCredentials\n",
    "\n",
    "# Set API key.\n",
    "subscription_key = '6ac220c316d24ff59df08be8d2096cf6'\n",
    "# Set endpoint.\n",
    "endpoint = 'https://vicbosstw.cognitiveservices.azure.com/'\n",
    "# Call API\n",
    "computervision_client = ComputerVisionClient(endpoint, CognitiveServicesCredentials(subscription_key))\n",
    "\n",
    "remote_image_url = \"https://raw.githubusercontent.com/Azure-Samples/cognitive-services-sample-data-files/master/ComputerVision/Images/landmark.jpg\"\n",
    "\n",
    "# Call API with content type (landmarks) and URL\n",
    "detect_domain_results_landmarks = computervision_client.analyze_image_by_domain(\"landmarks\", remote_image_url)\n",
    "print()\n",
    "\n",
    "print(\"Landmarks in the remote image:\")\n",
    "if len(detect_domain_results_landmarks.result[\"landmarks\"]) == 0:\n",
    "    print(\"No landmarks detected.\")\n",
    "else:\n",
    "    for landmark in detect_domain_results_landmarks.result[\"landmarks\"]:\n",
    "        print(landmark[\"name\"])"
   ]
  },
  {
   "cell_type": "code",
   "execution_count": 13,
   "metadata": {
    "ExecuteTime": {
     "end_time": "2021-08-24T13:20:58.932507Z",
     "start_time": "2021-08-24T13:20:57.627004Z"
    }
   },
   "outputs": [
    {
     "name": "stdout",
     "output_type": "stream",
     "text": [
      "\n",
      "Landmarks in the remote image:\n",
      "Big Ben\n"
     ]
    }
   ],
   "source": [
    "from azure.cognitiveservices.vision.computervision import ComputerVisionClient\n",
    "from msrest.authentication import CognitiveServicesCredentials\n",
    "\n",
    "# Set API key.\n",
    "subscription_key = '6ac220c316d24ff59df08be8d2096cf6'\n",
    "# Set endpoint.\n",
    "endpoint = 'https://vicbosstw.cognitiveservices.azure.com/'\n",
    "# Call API\n",
    "computervision_client = ComputerVisionClient(endpoint, CognitiveServicesCredentials(subscription_key))\n",
    "\n",
    "import os\n",
    "\n",
    "# 指定圖檔\n",
    "local_image_path = os.getcwd() + '/land2.jpg'\n",
    "\n",
    "# 讀取圖片\n",
    "local_image = open(local_image_path, \"rb\")\n",
    "\n",
    "\n",
    "\n",
    "# remote_image_url = \"https://raw.githubusercontent.com/Azure-Samples/cognitive-services-sample-data-files/master/ComputerVision/Images/landmark.jpg\"\n",
    "\n",
    "# Call API with content type (landmarks) and URL\n",
    "detect_domain_results_landmarks = computervision_client.analyze_image_by_domain_in_stream(\"landmarks\", local_image)\n",
    "print()\n",
    "\n",
    "print(\"Landmarks in the remote image:\")\n",
    "if len(detect_domain_results_landmarks.result[\"landmarks\"]) == 0:\n",
    "    print(\"No landmarks detected.\")\n",
    "else:\n",
    "    for landmark in detect_domain_results_landmarks.result[\"landmarks\"]:\n",
    "        print(landmark[\"name\"])"
   ]
  },
  {
   "cell_type": "markdown",
   "metadata": {},
   "source": [
    "# 色彩配置偵測服務操作"
   ]
  },
  {
   "cell_type": "code",
   "execution_count": 14,
   "metadata": {
    "ExecuteTime": {
     "end_time": "2021-08-24T13:23:17.676415Z",
     "start_time": "2021-08-24T13:23:16.619356Z"
    }
   },
   "outputs": [
    {
     "name": "stdout",
     "output_type": "stream",
     "text": [
      "===== Detect Color - remote =====\n",
      "Getting color scheme of the remote image: \n",
      "Is black and white: False\n",
      "Accent color: 486A83\n",
      "Dominant background color: White\n",
      "Dominant foreground color: Grey\n",
      "Dominant colors: ['Grey', 'White']\n"
     ]
    }
   ],
   "source": [
    "from azure.cognitiveservices.vision.computervision import ComputerVisionClient\n",
    "from msrest.authentication import CognitiveServicesCredentials\n",
    "\n",
    "# Set API key.\n",
    "subscription_key = '6ac220c316d24ff59df08be8d2096cf6'\n",
    "# Set endpoint.\n",
    "endpoint = 'https://vicbosstw.cognitiveservices.azure.com/'\n",
    "# Call API\n",
    "computervision_client = ComputerVisionClient(endpoint, CognitiveServicesCredentials(subscription_key))\n",
    "\n",
    "'''\n",
    "Detect Color - remote\n",
    "This example detects the different aspects of its color scheme in a remote image.\n",
    "'''\n",
    "print(\"===== Detect Color - remote =====\")\n",
    "# Select the feature(s) you want\n",
    "remote_image_features = [\"color\"]\n",
    "# Call API with URL and features\n",
    "detect_color_results_remote = computervision_client.analyze_image(remote_image_url, remote_image_features)\n",
    "\n",
    "# Print results of color scheme\n",
    "print(\"Getting color scheme of the remote image: \")\n",
    "print(\"Is black and white: {}\".format(detect_color_results_remote.color.is_bw_img))\n",
    "print(\"Accent color: {}\".format(detect_color_results_remote.color.accent_color))\n",
    "print(\"Dominant background color: {}\".format(detect_color_results_remote.color.dominant_color_background))\n",
    "print(\"Dominant foreground color: {}\".format(detect_color_results_remote.color.dominant_color_foreground))\n",
    "print(\"Dominant colors: {}\".format(detect_color_results_remote.color.dominant_colors))"
   ]
  },
  {
   "cell_type": "code",
   "execution_count": 15,
   "metadata": {
    "ExecuteTime": {
     "end_time": "2021-08-24T13:25:12.688379Z",
     "start_time": "2021-08-24T13:25:11.479062Z"
    }
   },
   "outputs": [
    {
     "name": "stdout",
     "output_type": "stream",
     "text": [
      "===== Detect Color - remote =====\n",
      "Getting color scheme of the remote image: \n",
      "Is black and white: False\n",
      "Accent color: CB9000\n",
      "Dominant background color: Black\n",
      "Dominant foreground color: Black\n",
      "Dominant colors: ['Black', 'Orange']\n"
     ]
    }
   ],
   "source": [
    "from azure.cognitiveservices.vision.computervision import ComputerVisionClient\n",
    "from msrest.authentication import CognitiveServicesCredentials\n",
    "\n",
    "# Set API key.\n",
    "subscription_key = '6ac220c316d24ff59df08be8d2096cf6'\n",
    "# Set endpoint.\n",
    "endpoint = 'https://vicbosstw.cognitiveservices.azure.com/'\n",
    "# Call API\n",
    "computervision_client = ComputerVisionClient(endpoint, CognitiveServicesCredentials(subscription_key))\n",
    "\n",
    "import os\n",
    "\n",
    "# 指定圖檔\n",
    "local_image_path = os.getcwd() + '/color.jpg'\n",
    "\n",
    "# 讀取圖片\n",
    "local_image = open(local_image_path, \"rb\")\n",
    "'''\n",
    "Detect Color - remote\n",
    "This example detects the different aspects of its color scheme in a remote image.\n",
    "'''\n",
    "print(\"===== Detect Color - remote =====\")\n",
    "# Select the feature(s) you want\n",
    "remote_image_features = [\"color\"]\n",
    "# Call API with URL and features\n",
    "detect_color_results_remote = computervision_client.analyze_image_in_stream(local_image, remote_image_features)\n",
    "\n",
    "# Print results of color scheme\n",
    "print(\"Getting color scheme of the remote image: \")\n",
    "print(\"Is black and white: {}\".format(detect_color_results_remote.color.is_bw_img))\n",
    "print(\"Accent color: {}\".format(detect_color_results_remote.color.accent_color))\n",
    "print(\"Dominant background color: {}\".format(detect_color_results_remote.color.dominant_color_background))\n",
    "print(\"Dominant foreground color: {}\".format(detect_color_results_remote.color.dominant_color_foreground))\n",
    "print(\"Dominant colors: {}\".format(detect_color_results_remote.color.dominant_colors))"
   ]
  },
  {
   "cell_type": "markdown",
   "metadata": {},
   "source": [
    "# 智慧裁切縮圖服務操作"
   ]
  },
  {
   "cell_type": "code",
   "execution_count": 1,
   "metadata": {
    "ExecuteTime": {
     "end_time": "2021-08-26T10:40:44.751459Z",
     "start_time": "2021-08-26T10:40:40.593673Z"
    }
   },
   "outputs": [
    {
     "name": "stdout",
     "output_type": "stream",
     "text": [
      "Thumbnail is 50-by-50\n"
     ]
    },
    {
     "data": {
      "image/png": "[encoded data removed]",
      "text/plain": [
       "<Figure size 432x288 with 1 Axes>"
      ]
     },
     "metadata": {
      "needs_background": "light"
     },
     "output_type": "display_data"
    }
   ],
   "source": [
    "import os\n",
    "import sys\n",
    "import requests\n",
    "# If you are using a Jupyter notebook, uncomment the following line.\n",
    "%matplotlib inline\n",
    "import matplotlib.pyplot as plt\n",
    "from PIL import Image\n",
    "from io import BytesIO\n",
    "\n",
    "\n",
    "# Set API key.\n",
    "subscription_key = '6ac220c316d24ff59df08be8d2096cf6'\n",
    "# Set endpoint.\n",
    "endpoint = 'https://vicbosstw.cognitiveservices.azure.com/'\n",
    "\n",
    "thumbnail_url = endpoint + \"vision/v2.1/generateThumbnail\"\n",
    "\n",
    "# Set image_url to the URL of an image that you want to analyze.\n",
    "image_url = \"https://upload.wikimedia.org/wikipedia/commons/9/94/Bloodhound_Puppy.jpg\"\n",
    "\n",
    "headers = {'Ocp-Apim-Subscription-Key': subscription_key}\n",
    "params = {'width': '50', 'height': '50', 'smartCropping': 'true'}\n",
    "data = {'url': image_url}\n",
    "response = requests.post(thumbnail_url, headers=headers,\n",
    "                         params=params, json=data)\n",
    "response.raise_for_status()\n",
    "\n",
    "thumbnail = Image.open(BytesIO(response.content))\n",
    "\n",
    "# Display the thumbnail.\n",
    "plt.imshow(thumbnail)\n",
    "plt.axis(\"off\")\n",
    "\n",
    "# Verify the thumbnail size.\n",
    "print(\"Thumbnail is {0}-by-{1}\".format(*thumbnail.size))"
   ]
  },
  {
   "cell_type": "code",
   "execution_count": 3,
   "metadata": {
    "ExecuteTime": {
     "end_time": "2021-08-26T10:46:41.908914Z",
     "start_time": "2021-08-26T10:46:39.757272Z"
    }
   },
   "outputs": [
    {
     "name": "stdout",
     "output_type": "stream",
     "text": [
      "Thumbnail is 50-by-50\n"
     ]
    },
    {
     "data": {
      "image/png": "[encoded data removed]",
      "text/plain": [
       "<Figure size 432x288 with 1 Axes>"
      ]
     },
     "metadata": {
      "needs_background": "light"
     },
     "output_type": "display_data"
    }
   ],
   "source": [
    "import os\n",
    "import sys\n",
    "import requests\n",
    "# If you are using a Jupyter notebook, uncomment the following line.\n",
    "%matplotlib inline\n",
    "import matplotlib.pyplot as plt\n",
    "from PIL import Image\n",
    "from io import BytesIO\n",
    "\n",
    "\n",
    "# Set API key.\n",
    "subscription_key = '6ac220c316d24ff59df08be8d2096cf6'\n",
    "# Set endpoint.\n",
    "endpoint = 'https://vicbosstw.cognitiveservices.azure.com/'\n",
    "\n",
    "thumbnail_url = endpoint + \"vision/v2.1/generateThumbnail\"\n",
    "\n",
    "# Set image_url to the URL of an image that you want to analyze.\n",
    "image_url = \"https://i.imgur.com/x7nvINE.jpg\"\n",
    "\n",
    "headers = {'Ocp-Apim-Subscription-Key': subscription_key}\n",
    "params = {'width': '50', 'height': '50', 'smartCropping': 'true'}\n",
    "data = {'url': image_url}\n",
    "response = requests.post(thumbnail_url, headers=headers,\n",
    "                         params=params, json=data)\n",
    "response.raise_for_status()\n",
    "\n",
    "thumbnail = Image.open(BytesIO(response.content))\n",
    "\n",
    "# Display the thumbnail.\n",
    "plt.imshow(thumbnail)\n",
    "plt.axis(\"off\")\n",
    "\n",
    "# Verify the thumbnail size.\n",
    "print(\"Thumbnail is {0}-by-{1}\".format(*thumbnail.size))"
   ]
  }
 ],
 "metadata": {
  "kernelspec": {
   "display_name": "Python 3",
   "language": "python",
   "name": "python3"
  },
  "language_info": {
   "codemirror_mode": {
    "name": "ipython",
    "version": 3
   },
   "file_extension": ".py",
   "mimetype": "text/x-python",
   "name": "python",
   "nbconvert_exporter": "python",
   "pygments_lexer": "ipython3",
   "version": "3.8.11"
  },
  "toc": {
   "base_numbering": 1,
   "nav_menu": {},
   "number_sections": true,
   "sideBar": true,
   "skip_h1_title": false,
   "title_cell": "Table of Contents",
   "title_sidebar": "Contents",
   "toc_cell": false,
   "toc_position": {},
   "toc_section_display": true,
   "toc_window_display": false
  }
 },
 "nbformat": 4,
 "nbformat_minor": 4
}
