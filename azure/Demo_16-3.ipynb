{
 "cells": [
  {
   "cell_type": "markdown",
   "metadata": {},
   "source": [
    "# QnA maker服務操作"
   ]
  },
  {
   "cell_type": "code",
   "execution_count": 2,
   "metadata": {
    "ExecuteTime": {
     "end_time": "2021-08-28T05:58:38.816812Z",
     "start_time": "2021-08-28T05:58:36.972361Z"
    }
   },
   "outputs": [
    {
     "name": "stdout",
     "output_type": "stream",
     "text": [
      "{\n",
      "    \"answers\": [\n",
      "        {\n",
      "            \"questions\": [\n",
      "                \"how old are you?\"\n",
      "            ],\n",
      "            \"answer\": \"i'm 26 years old.\",\n",
      "            \"score\": 100.0,\n",
      "            \"id\": 2,\n",
      "            \"source\": \"Editorial\",\n",
      "            \"isDocumentText\": false,\n",
      "            \"metadata\": [],\n",
      "            \"context\": {\n",
      "                \"isContextOnly\": false,\n",
      "                \"prompts\": []\n",
      "            }\n",
      "        }\n",
      "    ],\n",
      "    \"activeLearningEnabled\": false\n",
      "}\n"
     ]
    }
   ],
   "source": [
    "import http.client, urllib.parse, json, time, sys\n",
    "\n",
    "# Represents the various elements used to create HTTP request URIs\n",
    "# for QnA Maker operations.\n",
    "# From Publish Page\n",
    "# Example: YOUR-RESOURCE-NAME.azurewebsites.net\n",
    "# CAUTION: This is not the exact value of HOST field\n",
    "# HOST trimmed to work with http library\n",
    "# host = \"https://qamakedemo.cognitiveservices.azure.com/qnamaker/v4.0\";\n",
    "\n",
    "host = 'testluisvicboss.azurewebsites.net' #\"qamakeDEMO.azurewebsites.net\";\n",
    "\n",
    "# Authorization endpoint key\n",
    "# From Publish Page\n",
    "endpoint_key = '1e4427db-01ac-4ce8-b89d-b243d33da8b9' #\"e71e8e5a-e6f1-461b-9602-af667fa12ecb\";\n",
    "\n",
    "# Management APIs postpend the version to the route\n",
    "# From Publish Page\n",
    "# Example: /knowledgebases/ZZZ15f8c-d01b-4698-a2de-85b0dbf3358c/generateAnswer\n",
    "# CAUTION: This is not the exact value after POST\n",
    "# Part of HOST is prepended to route to work with http library\n",
    "route = '/qnamaker/knowledgebases/47c89114-8b02-4e8c-983d-afc68087d59b/generateAnswer'\n",
    "\n",
    "# JSON format for passing question to service\n",
    "question = \"{'question': 'how old are you?','top': 3}\";\n",
    "\n",
    "headers = {\n",
    "    'Authorization': 'EndpointKey ' + endpoint_key,\n",
    "    'Content-Type': 'application/json'\n",
    "  }\n",
    "\n",
    "try:\n",
    "    conn = http.client.HTTPSConnection(host,port=443)\n",
    "    conn.request (\"POST\", route,  question, headers)\n",
    "    response = conn.getresponse ()\n",
    "    answer = response.read ()\n",
    "    print(json.dumps(json.loads(answer), indent=4))\n",
    "\n",
    "except :\n",
    "    print (\"Unexpected error:\", sys.exc_info()[0])\n",
    "    print (\"Unexpected error:\", sys.exc_info()[1])"
   ]
  },
  {
   "cell_type": "markdown",
   "metadata": {},
   "source": [
    "# 內容仲裁服務操作"
   ]
  },
  {
   "cell_type": "code",
   "execution_count": 1,
   "metadata": {
    "ExecuteTime": {
     "end_time": "2021-08-28T06:08:30.025434Z",
     "start_time": "2021-08-28T06:08:28.226409Z"
    }
   },
   "outputs": [
    {
     "name": "stdout",
     "output_type": "stream",
     "text": [
      "{'auto_corrected_text': 'Is this a garbage email abcdef@abcd.com, phone: '\n",
      "                        '4255550111, IP: 255.255.255.255, 1234 Main Boulevard, '\n",
      "                        'Pentapolis WA 96555.\\n'\n",
      "                        'Crap is the profanity here. Is this information PII? '\n",
      "                        'phone 2065550111',\n",
      " 'language': 'eng',\n",
      " 'normalized_text': '   grabage email abcdef@abcd.com, phone: 4255550111, IP: '\n",
      "                    '255.255.255.255, 1234 Main Boulevard, Panapolis WA '\n",
      "                    '96555.\\n'\n",
      "                    'Crap   profanity .   information PII? phone 2065550111',\n",
      " 'original_text': 'Is this a grabage email abcdef@abcd.com, phone: 4255550111, '\n",
      "                  'IP: 255.255.255.255, 1234 Main Boulevard, Panapolis WA '\n",
      "                  '96555.\\n'\n",
      "                  'Crap is the profanity here. Is this information PII? phone '\n",
      "                  '2065550111',\n",
      " 'pii': {'address': [{'index': 81,\n",
      "                      'text': '1234 Main Boulevard, Panapolis WA 96555'}],\n",
      "         'email': [{'detected': 'abcdef@abcd.com',\n",
      "                    'index': 24,\n",
      "                    'sub_type': 'Regular',\n",
      "                    'text': 'abcdef@abcd.com'}],\n",
      "         'ipa': [{'index': 64, 'sub_type': 'IPV4', 'text': '255.255.255.255'}],\n",
      "         'phone': [{'country_code': 'US', 'index': 48, 'text': '4255550111'},\n",
      "                   {'country_code': 'US', 'index': 181, 'text': '2065550111'}],\n",
      "         'ssn': []},\n",
      " 'status': {'code': 3000, 'description': 'OK'},\n",
      " 'terms': [{'index': 115, 'list_id': 0, 'original_index': 122, 'term': 'crap'}],\n",
      " 'tracking_id': 'd0fe3bae-5e80-4f78-bd18-7277bdf4248e'}\n"
     ]
    }
   ],
   "source": [
    "import os.path\n",
    "from pprint import pprint\n",
    "import time\n",
    "from io import BytesIO\n",
    "from random import random\n",
    "import uuid\n",
    "\n",
    "from azure.cognitiveservices.vision.contentmoderator import ContentModeratorClient\n",
    "import azure.cognitiveservices.vision.contentmoderator.models\n",
    "from msrest.authentication import CognitiveServicesCredentials\n",
    "\n",
    "CONTENT_MODERATOR_ENDPOINT = \"https://vicbosstwtest.cognitiveservices.azure.com/\"\n",
    "subscription_key = \"37bbbbeeb7894094ba1873b656304337\"\n",
    "\n",
    "client = ContentModeratorClient(\n",
    "    endpoint=CONTENT_MODERATOR_ENDPOINT, \n",
    "    credentials=CognitiveServicesCredentials(subscription_key)\n",
    ")\n",
    "\n",
    "TEXT_FOLDER = os.getcwd()\n",
    "\n",
    "# Screen the input text: check for profanity,\n",
    "# do autocorrect text, and check for personally identifying\n",
    "# information (PII)\n",
    "with open(os.path.join(TEXT_FOLDER, 'content_moderator_text_moderation.txt'), \"rb\") as text_fd:\n",
    "    screen = client.text_moderation.screen_text(\n",
    "        text_content_type=\"text/plain\",\n",
    "        text_content=text_fd,\n",
    "        language=\"eng\",\n",
    "        autocorrect=True,\n",
    "        pii=True\n",
    "    )\n",
    "#     assert isinstance(screen, Screen)\n",
    "    pprint(screen.as_dict())"
   ]
  }
 ],
 "metadata": {
  "kernelspec": {
   "display_name": "Python 3",
   "language": "python",
   "name": "python3"
  },
  "language_info": {
   "codemirror_mode": {
    "name": "ipython",
    "version": 3
   },
   "file_extension": ".py",
   "mimetype": "text/x-python",
   "name": "python",
   "nbconvert_exporter": "python",
   "pygments_lexer": "ipython3",
   "version": "3.8.11"
  },
  "toc": {
   "base_numbering": 1,
   "nav_menu": {},
   "number_sections": true,
   "sideBar": true,
   "skip_h1_title": false,
   "title_cell": "Table of Contents",
   "title_sidebar": "Contents",
   "toc_cell": false,
   "toc_position": {},
   "toc_section_display": true,
   "toc_window_display": false
  }
 },
 "nbformat": 4,
 "nbformat_minor": 4
}
