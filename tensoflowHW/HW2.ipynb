{
  "nbformat": 4,
  "nbformat_minor": 0,
  "metadata": {
    "colab": {
      "name": "HW2.ipynb",
      "provenance": []
    },
    "kernelspec": {
      "name": "python3",
      "display_name": "Python 3"
    },
    "language_info": {
      "name": "python"
    }
  },
  "cells": [
    {
      "cell_type": "markdown",
      "metadata": {
        "id": "uQW5CciUO-46"
      },
      "source": [
        "比較以下：\n",
        "1. 自製\n",
        "2. tf.keras.losses.MeanSquaredError()\n",
        "3. tf.keras.losses.mean_squared_error(y_true, y_pred)"
      ]
    },
    {
      "cell_type": "code",
      "metadata": {
        "colab": {
          "base_uri": "https://localhost:8080/"
        },
        "id": "st5xLBKOO39a",
        "outputId": "87e0a32b-ffbb-4af9-ebeb-0845d3906ecf"
      },
      "source": [
        "import numpy as np\n",
        "import tensorflow as tf\n",
        "\n",
        "def MSE(y_predicted, y):\n",
        "\tsquared_error = (y_predicted - y) ** 2\n",
        "\tsum_squared_error = np.sum(squared_error)\n",
        "\tmse = sum_squared_error / y.size\n",
        "\treturn(mse)\n",
        " \n",
        "y_true = np.random.randint(0, 2, size=(2, 3))\n",
        "y_pred = np.random.random(size=(2, 3))\n",
        "\n",
        "#此為Tensorflow程式庫\n",
        "mse = tf.keras.losses.MeanSquaredError()\n",
        "loss0 = mse(y_true, y_pred).numpy()\n",
        "# loss1 is for every batch (row)\n",
        "loss1 = tf.keras.losses.mean_squared_error(y_true, y_pred)  \n",
        "loss2 = MSE(y_pred, y_true)\n",
        "print (loss0)\n",
        "print (loss1)\n",
        "print (loss2)"
      ],
      "execution_count": 2,
      "outputs": [
        {
          "output_type": "stream",
          "name": "stdout",
          "text": [
            "0.5075011849403381\n",
            "tf.Tensor([0.4834353  0.53156705], shape=(2,), dtype=float64)\n",
            "0.5075011728240204\n"
          ]
        }
      ]
    },
    {
      "cell_type": "code",
      "metadata": {
        "id": "PLeeHr0xPDPa"
      },
      "source": [
        ""
      ],
      "execution_count": null,
      "outputs": []
    }
  ]
}