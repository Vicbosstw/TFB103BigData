{
  "nbformat": 4,
  "nbformat_minor": 0,
  "metadata": {
    "colab": {
      "name": "HW1.ipynb",
      "provenance": []
    },
    "kernelspec": {
      "name": "python3",
      "display_name": "Python 3"
    },
    "language_info": {
      "name": "python"
    }
  },
  "cells": [
    {
      "cell_type": "markdown",
      "metadata": {
        "id": "SVWGF6SUIDsY"
      },
      "source": [
        "TensorFlow HW1"
      ]
    },
    {
      "cell_type": "code",
      "metadata": {
        "id": "KrIVwV36IDKw"
      },
      "source": [
        "import tensorflow as tf   "
      ],
      "execution_count": 8,
      "outputs": []
    },
    {
      "cell_type": "markdown",
      "metadata": {
        "id": "nUExykN2IZ9Y"
      },
      "source": [
        "加載並準備MNIST 數據。將樣本從整數轉為浮點數"
      ]
    },
    {
      "cell_type": "code",
      "metadata": {
        "id": "jrF1djquHGL6"
      },
      "source": [
        "mnist = tf.keras.datasets.mnist\n",
        "\n",
        "(x_train, y_train), (x_test, y_test) = mnist.load_data()\n",
        "x_train, x_test = x_train / 255.0, x_test / 255.0"
      ],
      "execution_count": 9,
      "outputs": []
    },
    {
      "cell_type": "markdown",
      "metadata": {
        "id": "dHcaiu7QImdf"
      },
      "source": [
        "Sequential 通過堆疊層來構建模型。選擇優化器和損失函數進行訓練"
      ]
    },
    {
      "cell_type": "code",
      "metadata": {
        "id": "nV1LeifjInMv"
      },
      "source": [
        "model = tf.keras.models.Sequential([\n",
        "  tf.keras.layers.Flatten(input_shape=(28, 28)),\n",
        "  tf.keras.layers.Dense(128, activation='relu'),\n",
        "  tf.keras.layers.Dropout(0.2),\n",
        "  tf.keras.layers.Dense(10)\n",
        "])"
      ],
      "execution_count": 10,
      "outputs": []
    },
    {
      "cell_type": "markdown",
      "metadata": {
        "id": "kUapyqH6Iyrf"
      },
      "source": [
        "對於每個範例，模型都會返回一個“ logits ”或“ log-odds ”分數向量，每個類別一個"
      ]
    },
    {
      "cell_type": "code",
      "metadata": {
        "colab": {
          "base_uri": "https://localhost:8080/"
        },
        "id": "kXM5LKoUIzQv",
        "outputId": "4dedc477-9a03-4493-d826-81664ec3ca42"
      },
      "source": [
        "predictions = model(x_train[:1]).numpy()\n",
        "predictions"
      ],
      "execution_count": 11,
      "outputs": [
        {
          "output_type": "execute_result",
          "data": {
            "text/plain": [
              "array([[-0.37367967,  0.15195467,  0.04857412, -0.36793014, -0.47504196,\n",
              "         0.20061626, -0.06226171, -0.13196301, -0.08266914,  0.17932865]],\n",
              "      dtype=float32)"
            ]
          },
          "metadata": {},
          "execution_count": 11
        }
      ]
    },
    {
      "cell_type": "markdown",
      "metadata": {
        "id": "yT_ukkBhMFM9"
      },
      "source": [
        "該tf.nn.softmax函數將這些 logits 轉換為每個類的“概率”"
      ]
    },
    {
      "cell_type": "code",
      "metadata": {
        "id": "K-uGg8W9JMG3"
      },
      "source": [
        "loss_fn = tf.keras.losses.SparseCategoricalCrossentropy(from_logits=True)"
      ],
      "execution_count": 12,
      "outputs": []
    },
    {
      "cell_type": "markdown",
      "metadata": {
        "id": "_AwONCzSMQVk"
      },
      "source": [
        "此損失等於真實類別的負對數概率：如果模型確定類別正確，則該損失為零。\n",
        "\n",
        "這個未經訓練的模型給出的概率接近隨機（每個類為 1/10），因此初始損失應該接近-tf.math.log(1/10) ~= 2.3。"
      ]
    },
    {
      "cell_type": "code",
      "metadata": {
        "colab": {
          "base_uri": "https://localhost:8080/"
        },
        "id": "edc-tYJ6MQ5J",
        "outputId": "3de5c335-4bca-4420-bdb9-e38d05090266"
      },
      "source": [
        "loss_fn(y_train[:1], predictions).numpy()"
      ],
      "execution_count": 13,
      "outputs": [
        {
          "output_type": "execute_result",
          "data": {
            "text/plain": [
              "2.0370395"
            ]
          },
          "metadata": {},
          "execution_count": 13
        }
      ]
    },
    {
      "cell_type": "code",
      "metadata": {
        "id": "0WmSx1AfMdMD"
      },
      "source": [
        "model.compile(optimizer='adam',\n",
        "              loss=loss_fn,\n",
        "              metrics=['accuracy'])"
      ],
      "execution_count": 14,
      "outputs": []
    },
    {
      "cell_type": "markdown",
      "metadata": {
        "id": "jwa03FczMhQl"
      },
      "source": [
        "該Model.fit方法調整模型參數以最小化損失"
      ]
    },
    {
      "cell_type": "code",
      "metadata": {
        "colab": {
          "base_uri": "https://localhost:8080/"
        },
        "id": "b0RdCzXcMhws",
        "outputId": "50f14d8d-9d99-406b-8bb9-b7f60d2b40a6"
      },
      "source": [
        "model.fit(x_train, y_train, epochs=5)"
      ],
      "execution_count": 15,
      "outputs": [
        {
          "output_type": "stream",
          "name": "stdout",
          "text": [
            "Epoch 1/5\n",
            "1875/1875 [==============================] - 5s 2ms/step - loss: 0.2961 - accuracy: 0.9133\n",
            "Epoch 2/5\n",
            "1875/1875 [==============================] - 4s 2ms/step - loss: 0.1423 - accuracy: 0.9572\n",
            "Epoch 3/5\n",
            "1875/1875 [==============================] - 4s 2ms/step - loss: 0.1044 - accuracy: 0.9680\n",
            "Epoch 4/5\n",
            "1875/1875 [==============================] - 4s 2ms/step - loss: 0.0890 - accuracy: 0.9720\n",
            "Epoch 5/5\n",
            "1875/1875 [==============================] - 4s 2ms/step - loss: 0.0756 - accuracy: 0.9754\n"
          ]
        },
        {
          "output_type": "execute_result",
          "data": {
            "text/plain": [
              "<keras.callbacks.History at 0x7fefafca5d50>"
            ]
          },
          "metadata": {},
          "execution_count": 15
        }
      ]
    },
    {
      "cell_type": "markdown",
      "metadata": {
        "id": "1Vll0V2UMnZk"
      },
      "source": [
        "該Model.evaluate方法通常在驗證或測試上檢查模型性能。"
      ]
    },
    {
      "cell_type": "code",
      "metadata": {
        "colab": {
          "base_uri": "https://localhost:8080/"
        },
        "id": "c0GBDt3HMr11",
        "outputId": "15c26ea8-229b-4c07-855f-ac38d345af4e"
      },
      "source": [
        "model.evaluate(x_test,  y_test, verbose=2)"
      ],
      "execution_count": 16,
      "outputs": [
        {
          "output_type": "stream",
          "name": "stdout",
          "text": [
            "313/313 - 0s - loss: 0.0715 - accuracy: 0.9781\n"
          ]
        },
        {
          "output_type": "execute_result",
          "data": {
            "text/plain": [
              "[0.07147174328565598, 0.9781000018119812]"
            ]
          },
          "metadata": {},
          "execution_count": 16
        }
      ]
    },
    {
      "cell_type": "markdown",
      "metadata": {
        "id": "fieT_hzSMvwD"
      },
      "source": [
        "現在，圖像分類器在此數據集上的訓練準確度約為 98%。\n",
        "如果你想讓你的模型回傳一個概率，你可以使用訓練好的模型，並將 softmax 附加上去"
      ]
    },
    {
      "cell_type": "code",
      "metadata": {
        "id": "Mjla-mayM2Fb"
      },
      "source": [
        "probability_model = tf.keras.Sequential([\n",
        "  model,\n",
        "  tf.keras.layers.Softmax()\n",
        "])"
      ],
      "execution_count": 17,
      "outputs": []
    },
    {
      "cell_type": "code",
      "metadata": {
        "colab": {
          "base_uri": "https://localhost:8080/"
        },
        "id": "DqKrqMBTM-2N",
        "outputId": "fcf2c8d9-f186-4f8e-b3ff-b6b58a89353b"
      },
      "source": [
        "probability_model(x_test[:5])"
      ],
      "execution_count": 18,
      "outputs": [
        {
          "output_type": "execute_result",
          "data": {
            "text/plain": [
              "<tf.Tensor: shape=(5, 10), dtype=float32, numpy=\n",
              "array([[5.42162715e-09, 5.92075278e-10, 2.27451346e-06, 3.09578195e-06,\n",
              "        2.77563844e-12, 1.11181144e-08, 1.69778105e-13, 9.99993801e-01,\n",
              "        8.69034400e-10, 7.78235972e-07],\n",
              "       [6.88239554e-09, 9.18573642e-05, 9.99907613e-01, 4.67182161e-07,\n",
              "        7.81037815e-15, 1.92929548e-08, 3.70264210e-08, 1.65637937e-11,\n",
              "        2.02386747e-08, 1.06667754e-13],\n",
              "       [1.52338646e-06, 9.98653650e-01, 1.29221808e-04, 4.31223953e-06,\n",
              "        2.34399304e-05, 1.15910927e-06, 1.93323285e-05, 1.11071509e-03,\n",
              "        5.59165856e-05, 6.75976082e-07],\n",
              "       [9.99792993e-01, 1.03023385e-08, 7.28775285e-06, 3.69262465e-09,\n",
              "        3.51561411e-08, 1.23442635e-06, 3.60532795e-05, 1.55705115e-04,\n",
              "        8.76891171e-10, 6.72886927e-06],\n",
              "       [6.06235290e-07, 8.59681819e-08, 1.51780987e-05, 8.63896261e-08,\n",
              "        9.95624959e-01, 8.88053080e-07, 7.41086694e-07, 1.44337158e-04,\n",
              "        3.85905565e-07, 4.21278318e-03]], dtype=float32)>"
            ]
          },
          "metadata": {},
          "execution_count": 18
        }
      ]
    }
  ]
}